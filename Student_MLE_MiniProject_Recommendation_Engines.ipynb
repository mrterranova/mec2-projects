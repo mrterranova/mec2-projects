{
  "nbformat": 4,
  "nbformat_minor": 0,
  "metadata": {
    "colab": {
      "provenance": [],
      "include_colab_link": true
    },
    "kernelspec": {
      "name": "python3",
      "display_name": "Python 3"
    },
    "language_info": {
      "name": "python"
    }
  },
  "cells": [
    {
      "cell_type": "markdown",
      "metadata": {
        "id": "view-in-github",
        "colab_type": "text"
      },
      "source": [
        "<a href=\"https://colab.research.google.com/github/mrterranova/mec2-projects/blob/main/Student_MLE_MiniProject_Recommendation_Engines.ipynb\" target=\"_parent\"><img src=\"https://colab.research.google.com/assets/colab-badge.svg\" alt=\"Open In Colab\"/></a>"
      ]
    },
    {
      "cell_type": "markdown",
      "source": [
        "# Mini Project: Recommendation Engines\n",
        "\n",
        "Recommendation engines are algorithms designed to provide personalized suggestions or recommendations to users. These systems analyze user behavior, preferences, and interactions with items (products, movies, music, articles, etc.) to predict and offer items that users are likely to be interested in. Recommendation engines play a crucial role in enhancing user experience, driving engagement, and increasing conversion rates in various applications, including e-commerce, entertainment, content platforms, and more.\n",
        "\n",
        "There are generally two approaches taken in collaborative filtering and content-based recommendation engines:\n",
        "\n",
        "**1. Collaborative Filtering:**\n",
        "Collaborative Filtering is a popular approach to building recommendation systems that leverages the collective behavior of users to make personalized recommendations. It is based on the idea that users who have agreed in the past will likely agree in the future. There are two main types of collaborative filtering:\n",
        "\n",
        "- **User-based Collaborative Filtering:** This method finds users similar to the target user based on their past interactions (e.g., ratings or purchases). It then recommends items that similar users have liked but the target user has not interacted with yet.\n",
        "\n",
        "- **Item-based Collaborative Filtering:** In this approach, the system identifies similar items based on user interactions. It recommends items that are similar to the ones the target user has already liked or interacted with.\n",
        "\n",
        "Collaborative filtering does not require any explicit information about items but relies on the similarity between users or items. It is effective in capturing complex patterns and can provide serendipitous recommendations. However, it suffers from the cold-start problem (i.e., difficulty in recommending to new users or items with no interactions) and scalability challenges in large datasets.\n",
        "\n",
        "**2. Content-Based Recommendation:**\n",
        "Content-based recommendation is an alternative approach to building recommendation systems that focuses on the attributes or features of items and users. It leverages the characteristics of items to make recommendations. The key steps involved in content-based recommendation are:\n",
        "\n",
        "- **Feature Extraction:** For each item, relevant features are extracted. For movies, these features could be genre, director, actors, and plot summary.\n",
        "\n",
        "- **User Profile:** A user profile is created based on the items they have interacted with in the past. The user profile contains the weighted importance of features based on their interactions.\n",
        "\n",
        "- **Similarity Calculation:** The similarity between items or between items and the user profile is calculated using similarity metrics like cosine similarity or Euclidean distance.\n",
        "\n",
        "- **Recommendation:** Items that are most similar to the user profile are recommended to the user.\n",
        "\n",
        "Content-based recommendation systems are less affected by the cold-start problem as they can still recommend items based on their features. They are also more interpretable as they rely on item attributes. However, they may miss out on providing serendipitous recommendations and can be limited by the quality of feature extraction and user profiles.\n",
        "\n",
        "**Choosing Between Collaborative Filtering and Content-Based:**\n",
        "Both collaborative filtering and content-based approaches have their strengths and weaknesses. The choice between them depends on the specific requirements of the recommendation system, the type of data available, and the user base. Hybrid approaches that combine collaborative filtering and content-based techniques are also common, aiming to leverage the strengths of both methods and mitigate their weaknesses."
      ],
      "metadata": {
        "id": "fyXucUekO19i"
      }
    },
    {
      "cell_type": "markdown",
      "source": [
        "In this mini-project, you'll be building both content based and collaborative filtering engines for the [MovieLens 25M dataset](https://grouplens.org/datasets/movielens/25m/). The MovieLens 25M dataset is one of the most widely used and popular datasets for building and evaluating recommendation systems. It is provided by the GroupLens Research project, which collects and studies datasets related to movie ratings and recommendations. The MovieLens 25M dataset contains movie ratings and other related information contributed by users of the MovieLens website.\n",
        "\n",
        "**Dataset Details:**\n",
        "- **Size:** The dataset contains approximately 25 million movie ratings.\n",
        "- **Users:** It includes ratings from over 162,000 users.\n",
        "- **Movies:** The dataset consists of ratings for more than 62,000 movies.\n",
        "- **Ratings:** The ratings are provided on a scale of 1 to 5, where 1 is the lowest rating and 5 is the highest.\n",
        "- **Timestamps:** Each rating is associated with a timestamp, indicating when the rating was given.\n",
        "\n",
        "**Data Files:**\n",
        "The dataset is usually split into three CSV files:\n",
        "\n",
        "1. **movies.csv:** Contains information about movies, including the movie ID, title, genres, and release year.\n",
        "   - Columns: movieId, title, genres\n",
        "\n",
        "2. **ratings.csv:** Contains movie ratings provided by users, including the user ID, movie ID, rating, and timestamp.\n",
        "   - Columns: userId, movieId, rating, timestamp\n",
        "\n",
        "3. **tags.csv:** Contains user-generated tags for movies, including the user ID, movie ID, tag, and timestamp.\n",
        "   - Columns: userId, movieId, tag, timestamp"
      ],
      "metadata": {
        "id": "TYuE9O6I2uRY"
      }
    },
    {
      "cell_type": "markdown",
      "source": [
        "First, import all the libraries you'll need."
      ],
      "metadata": {
        "id": "DN0qzP-cRlMo"
      }
    },
    {
      "cell_type": "code",
      "execution_count": 1,
      "metadata": {
        "id": "kLWR1DfQPakn"
      },
      "outputs": [],
      "source": [
        "import zipfile\n",
        "import numpy as np\n",
        "import pandas as pd\n",
        "from urllib.request import urlretrieve\n",
        "from sklearn.metrics.pairwise import cosine_similarity\n",
        "from collections import Counter\n",
        "from sklearn.feature_extraction.text import TfidfVectorizer"
      ]
    },
    {
      "cell_type": "markdown",
      "source": [
        "Next, download the relevant components of the MoveLens dataset. Note, these instructions are roughly based on the colab [here](https://colab.research.google.com/github/google/eng-edu/blob/main/ml/recommendation-systems/recommendation-systems.ipynb?utm_source=ss-recommendation-systems&utm_campaign=colab-external&utm_medium=referral&utm_content=recommendation-systems#scrollTo=O3bcgduFo4s6)."
      ],
      "metadata": {
        "id": "iaG6vAKyREej"
      }
    },
    {
      "cell_type": "code",
      "source": [
        "print(\"Downloading movielens data...\")\n",
        "\n",
        "urlretrieve('http://files.grouplens.org/datasets/movielens/ml-100k.zip', 'movielens.zip')\n",
        "zip_ref = zipfile.ZipFile('movielens.zip', 'r')\n",
        "zip_ref.extractall()\n",
        "print(\"Done. Dataset contains:\")\n",
        "print(zip_ref.read('ml-100k/u.info'))\n",
        "\n",
        "ratings_cols = ['user_id', 'movie_id', 'rating', 'unix_timestamp']\n",
        "ratings = pd.read_csv(\n",
        "    'ml-100k/u.data', sep='\\t', names=ratings_cols, encoding='latin-1')\n",
        "\n",
        "# The movies file contains a binary feature for each genre.\n",
        "genre_cols = [\n",
        "    \"genre_unknown\", \"Action\", \"Adventure\", \"Animation\", \"Children\", \"Comedy\",\n",
        "    \"Crime\", \"Documentary\", \"Drama\", \"Fantasy\", \"Film-Noir\", \"Horror\",\n",
        "    \"Musical\", \"Mystery\", \"Romance\", \"Sci-Fi\", \"Thriller\", \"War\", \"Western\"\n",
        "]\n",
        "movies_cols = [\n",
        "    'movie_id', 'title', 'release_date', \"video_release_date\", \"imdb_url\"\n",
        "] + genre_cols\n",
        "movies = pd.read_csv(\n",
        "    'ml-100k/u.item', sep='|', names=movies_cols, encoding='latin-1')"
      ],
      "metadata": {
        "id": "-wCvx2ukPm-3",
        "colab": {
          "base_uri": "https://localhost:8080/"
        },
        "outputId": "91e22c6b-1202-46d4-f009-4c5da07836ac"
      },
      "execution_count": 2,
      "outputs": [
        {
          "output_type": "stream",
          "name": "stdout",
          "text": [
            "Downloading movielens data...\n",
            "Done. Dataset contains:\n",
            "b'943 users\\n1682 items\\n100000 ratings\\n'\n"
          ]
        }
      ]
    },
    {
      "cell_type": "markdown",
      "source": [
        "Before doing any kind of machine learning, it's always good to familiarize yourself with the datasets you'lll be working with.\n",
        "\n",
        "Here are your tasks:\n",
        "\n",
        "1. Spend some time familiarizing yourself with both the `movies` and `ratings` dataframes. How many unique user ids are present? How many unique movies are there?\n",
        "2. Create a new dataframe that merges the `movies` and `ratings` tables on 'movie_id'. Only keep the 'user_id', 'title', 'rating' fields in this new dataframe."
      ],
      "metadata": {
        "id": "pLAMVhnbR-Cy"
      }
    },
    {
      "cell_type": "code",
      "source": [
        "# Spend some time familiarizing yourself with both the movies and ratings\n",
        "# dataframes. How many unique user ids are present? How many unique movies\n",
        "# are there?\n",
        "print(ratings.head())\n",
        "print(movies.head())\n",
        "\n",
        "print(\"Number of unique users:\", ratings['user_id'].nunique())\n",
        "print(\"Number of unique movies:\", movies['movie_id'].nunique())"
      ],
      "metadata": {
        "id": "vp7Tx7H_P5f2",
        "colab": {
          "base_uri": "https://localhost:8080/"
        },
        "outputId": "d93e2300-cb9f-4c6c-ea07-d1a19a593368"
      },
      "execution_count": 3,
      "outputs": [
        {
          "output_type": "stream",
          "name": "stdout",
          "text": [
            "   user_id  movie_id  rating  unix_timestamp\n",
            "0      196       242       3       881250949\n",
            "1      186       302       3       891717742\n",
            "2       22       377       1       878887116\n",
            "3      244        51       2       880606923\n",
            "4      166       346       1       886397596\n",
            "   movie_id              title release_date  video_release_date  \\\n",
            "0         1   Toy Story (1995)  01-Jan-1995                 NaN   \n",
            "1         2   GoldenEye (1995)  01-Jan-1995                 NaN   \n",
            "2         3  Four Rooms (1995)  01-Jan-1995                 NaN   \n",
            "3         4  Get Shorty (1995)  01-Jan-1995                 NaN   \n",
            "4         5     Copycat (1995)  01-Jan-1995                 NaN   \n",
            "\n",
            "                                            imdb_url  genre_unknown  Action  \\\n",
            "0  http://us.imdb.com/M/title-exact?Toy%20Story%2...              0       0   \n",
            "1  http://us.imdb.com/M/title-exact?GoldenEye%20(...              0       1   \n",
            "2  http://us.imdb.com/M/title-exact?Four%20Rooms%...              0       0   \n",
            "3  http://us.imdb.com/M/title-exact?Get%20Shorty%...              0       1   \n",
            "4  http://us.imdb.com/M/title-exact?Copycat%20(1995)              0       0   \n",
            "\n",
            "   Adventure  Animation  Children  ...  Fantasy  Film-Noir  Horror  Musical  \\\n",
            "0          0          1         1  ...        0          0       0        0   \n",
            "1          1          0         0  ...        0          0       0        0   \n",
            "2          0          0         0  ...        0          0       0        0   \n",
            "3          0          0         0  ...        0          0       0        0   \n",
            "4          0          0         0  ...        0          0       0        0   \n",
            "\n",
            "   Mystery  Romance  Sci-Fi  Thriller  War  Western  \n",
            "0        0        0       0         0    0        0  \n",
            "1        0        0       0         1    0        0  \n",
            "2        0        0       0         1    0        0  \n",
            "3        0        0       0         0    0        0  \n",
            "4        0        0       0         1    0        0  \n",
            "\n",
            "[5 rows x 24 columns]\n",
            "Number of unique users: 943\n",
            "Number of unique movies: 1682\n"
          ]
        }
      ]
    },
    {
      "cell_type": "code",
      "source": [
        "# Merge movies and ratings dataframes\n",
        "df = pd.merge(movies[['movie_id', 'title']], ratings[['user_id', 'movie_id', 'rating']], on='movie_id')\n",
        "print(df.head())"
      ],
      "metadata": {
        "id": "f6MrymMJRMjB",
        "colab": {
          "base_uri": "https://localhost:8080/"
        },
        "outputId": "aa659cdf-2cfd-4d38-8970-86f15131207a"
      },
      "execution_count": 4,
      "outputs": [
        {
          "output_type": "stream",
          "name": "stdout",
          "text": [
            "   movie_id             title  user_id  rating\n",
            "0         1  Toy Story (1995)      308       4\n",
            "1         1  Toy Story (1995)      287       5\n",
            "2         1  Toy Story (1995)      148       4\n",
            "3         1  Toy Story (1995)      280       4\n",
            "4         1  Toy Story (1995)       66       3\n"
          ]
        }
      ]
    },
    {
      "cell_type": "markdown",
      "source": [
        "As mentioned in the introduction, content-Based Filtering is a recommendation engine approach that focuses on the attributes or features of items (products, movies, music, articles, etc.) and leverages these features to make personalized recommendations. The underlying idea is to match the characteristics of items with the preferences of users to suggest items that align with their interests. Content-based filtering is particularly useful when explicit user-item interactions (e.g., ratings or purchases) are sparse or unavailable.\n",
        "\n",
        "**Key Steps in Content-Based Filtering:**\n",
        "\n",
        "1. **Feature Extraction:**\n",
        "   - For each item, relevant features are extracted. These features are typically descriptive attributes that can be represented numerically, such as genre, director, actors, author, publication date, and keywords.\n",
        "   - In the case of text-based items, natural language processing techniques may be used to extract features like TF-IDF (Term Frequency-Inverse Document Frequency) scores.\n",
        "\n",
        "2. **User Profile Creation:**\n",
        "   - A user profile is created based on the items they have interacted with in the past. The user profile contains the weighted importance of features based on their interactions.\n",
        "   - For example, if a user has watched several action movies, the action genre feature would receive a higher weight in their profile.\n",
        "\n",
        "3. **Similarity Calculation:**\n",
        "   - The similarity between items or between items and the user profile is calculated using similarity metrics like cosine similarity, Euclidean distance, or Pearson correlation.\n",
        "   - Cosine similarity is commonly used as it measures the cosine of the angle between two vectors, which represents their similarity.\n",
        "\n",
        "4. **Recommendation:**\n",
        "   - Items that are most similar to the user profile are recommended to the user. These are items whose features have the highest similarity scores with the user profile.\n",
        "   - The recommended items are presented as a list sorted by their similarity scores.\n",
        "\n",
        "**Advantages of Content-Based Filtering:**\n",
        "1. **No Cold-Start Problem:** Content-based filtering can make recommendations even for new users with no historical interactions because it relies on item features rather than user history.\n",
        "\n",
        "2. **User Independence:** The recommendations are based solely on the features of items and do not require knowledge of other users' preferences or behavior.\n",
        "\n",
        "3. **Transparency:** Content-based recommendations are interpretable, as they depend on the features of items, making it easier for users to understand why specific items are recommended.\n",
        "\n",
        "4. **Serendipity:** Content-based filtering can recommend items with characteristics not seen before by the user, leading to serendipitous discoveries.\n",
        "\n",
        "5. **Diversity in Recommendations:** The method can offer diverse recommendations since it suggests items with different feature combinations.\n",
        "\n",
        "**Limitations of Content-Based Filtering:**\n",
        "1. **Limited Discovery:** Content-based filtering may struggle to recommend items outside the scope of users' historical interactions or interests.\n",
        "\n",
        "2. **Over-Specialization:** Users may receive recommendations that are too similar to their previous choices, leading to a lack of exposure to new item categories.\n",
        "\n",
        "3. **Dependency on Feature Quality:** The quality and relevance of item features significantly influence the quality of recommendations.\n",
        "\n",
        "4. **Limited for Cold Items:** Content-based filtering can struggle to recommend new items with limited feature information."
      ],
      "metadata": {
        "id": "_U44W0TMT3qf"
      }
    },
    {
      "cell_type": "markdown",
      "source": [
        "Here is your task:\n",
        "\n",
        "1. Write a function that takes in a user id and the dataframe you created before that contains 'user_id', 'title', and 'rating'. The function should return content-based recommendations for this user. Here are steps you can take:\n",
        "\n",
        "  A. Get the user's rated movies\n",
        "\n",
        "  B. Create a TF-IDF matrix using movie genres. Note, this can be extracted from the `movies` dataframe.\n",
        "\n",
        "  C. Compute the cosine similarity between movie genres. Use the [cosine_similarity](https://scikit-learn.org/stable/modules/generated/sklearn.metrics.pairwise.cosine_similarity.html) function.\n",
        "\n",
        "  D. Get the indices of similar movies to those rated by the user based on cosine similarity. Keep only the top 5.\n",
        "\n",
        "  E. Remove duplicates and movies already rated by the user."
      ],
      "metadata": {
        "id": "sbJGD7j7Ui-8"
      }
    },
    {
      "cell_type": "code",
      "source": [
        "from ctypes import DEFAULT_MODE\n",
        "def content_based_recommendation(user_id, df, movies, genre_cols=genre_cols, top_n=5):\n",
        "    # Get the user's rated movies\n",
        "    df_user = df[(df['user_id'] == user_id) & (df['rating'] >= 5)]\n",
        "    rated_movie_ids = set(df_user['movie_id'].values)\n",
        "\n",
        "    # Create a TF-IDF matrix using movie genres\n",
        "    movies['genres_str'] = movies[genre_cols].apply(\n",
        "        lambda row: ' '.join([genre for genre in genre_cols if row[genre] == 1]), axis=1\n",
        "    )\n",
        "\n",
        "    tfidf = TfidfVectorizer(stop_words='english')\n",
        "    tfidf_matrix = tfidf.fit_transform(movies['genres_str'])\n",
        "\n",
        "    # Compute the cosine similarity between movie genres\n",
        "    cosine_sim = cosine_similarity(tfidf_matrix, tfidf_matrix)\n",
        "\n",
        "    # Get the indices of the similar movies based on cosine similarity\n",
        "    top_sim_indices = []\n",
        "    for movie_id in rated_movie_ids:\n",
        "        idx = movies[movies['movie_id'] == movie_id].index[0]\n",
        "        sim_scores = list(enumerate(cosine_sim[idx]))\n",
        "        # Sort by similarity, skip the movie itself\n",
        "        sim_scores = sorted(sim_scores, key=lambda x: x[1], reverse=True)\n",
        "        sim_scores = [i for i in sim_scores if i[0] != idx]\n",
        "        # Take top_n similar movies\n",
        "        top_sim_indices.extend([i[0] for i in sim_scores[:top_n]])\n",
        "\n",
        "    # Remove duplicates and movies already rated by the user\n",
        "    recommended_indices = list(set(top_sim_indices) - rated_movie_ids)\n",
        "\n",
        "    # Get the top 5 recommended movies\n",
        "    top_titles = movies.loc[recommended_indices, 'title'].head(top_n).tolist()\n",
        "\n",
        "    return top_titles\n"
      ],
      "metadata": {
        "id": "JwBQSC-POTzn"
      },
      "execution_count": 5,
      "outputs": []
    },
    {
      "cell_type": "markdown",
      "source": [
        "The key idea behind collaborative filtering is that users who have agreed in the past will likely agree in the future. Instead of relying on item attributes or user profiles, collaborative filtering identifies patterns of user behavior and item preferences from the interactions present in the data.\n",
        "\n",
        "**Types of Collaborative Filtering:**\n",
        "There are two main types of collaborative filtering:\n",
        "\n",
        "**Collaborative Filtering Process:**\n",
        "The collaborative filtering process typically involves the following steps:\n",
        "\n",
        "1. **Data Collection:**\n",
        "   - Gather data on user-item interactions, such as movie ratings, product purchases, or article clicks.\n",
        "\n",
        "2. **User-Item Matrix:**\n",
        "   - Organize the data into a user-item matrix, where rows represent users, columns represent items, and the entries contain the users' interactions (e.g., ratings).\n",
        "\n",
        "3. **Similarity Calculation:**\n",
        "   - Calculate the similarity between users or items using similarity metrics such as cosine similarity, Pearson correlation, or Jaccard similarity.\n",
        "   - For user-based collaborative filtering, user similarities are calculated, and for item-based collaborative filtering, item similarities are calculated.\n",
        "\n",
        "4. **Neighborhood Selection:**\n",
        "   - For each user or item, select the most similar users or items as the neighborhood.\n",
        "   - The size of the neighborhood (the number of similar users or items to consider) is an important parameter to control the system's behavior.\n",
        "\n",
        "5. **Prediction Generation:**\n",
        "   - Predict the ratings for items that the target user has not yet interacted with by combining the ratings of neighboring users or items.\n",
        "\n",
        "6. **Recommendation Generation:**\n",
        "   - Recommend items with the highest predicted ratings to the target user.\n",
        "\n",
        "**Advantages of Collaborative Filtering using User-Item Interactions:**\n",
        "- Collaborative filtering is based solely on user interactions and does not require knowledge of item attributes, making it useful for cases where item data is sparse or unavailable.\n",
        "- It can provide serendipitous recommendations, suggesting items that users may not have discovered on their own.\n",
        "- Collaborative filtering can be applied in various domains, including e-commerce, music, movie, and content recommendations.\n",
        "\n",
        "**Limitations of Collaborative Filtering:**\n",
        "- The cold-start problem: Collaborative filtering struggles to recommend to new users or items with no or limited interaction history.\n",
        "- It may suffer from sparsity when data is limited or when users have only interacted with a small subset of items.\n",
        "- Scalability issues can arise with large datasets and an increasing number of users or items."
      ],
      "metadata": {
        "id": "2NNt3gHLYDxU"
      }
    },
    {
      "cell_type": "markdown",
      "source": [
        "Here is your task:\n",
        "\n",
        "1. Write a function that takes in a user id and the dataframe you created before that contains 'user_id', 'title', and 'rating'. The function should return collaborative filtering recommendations for this user based on a user-item interaction matrix. Here are steps you can take:\n",
        "\n",
        "  A. Create the user-item matrix using Pandas' [pivot_table](https://pandas.pydata.org/docs/reference/api/pandas.pivot_table.html).\n",
        "\n",
        "  B. Fill missing values with zeros in this matrix.\n",
        "\n",
        "  C. Calculate user-user similarity matrix using cosine similarity.\n",
        "\n",
        "  D. Get the array of similarity scores of the target user with all other users from the similarity matrix.\n",
        "\n",
        "  E. Extract, say the the top 5 most similar users (excluding the target user).\n",
        "\n",
        "  F. Generate movie recommendations based on the most similar users.\n",
        "\n",
        "  G. Remove duplicate movies recommendations."
      ],
      "metadata": {
        "id": "ks4mWyCaYVNY"
      }
    },
    {
      "cell_type": "code",
      "source": [
        "# Collaborative Filtering using User-Item Interactions\n",
        "def collaborative_filtering_recommendation(user_id, df, movies=movies, top_n=5):\n",
        "  # Create the user-item matrix\n",
        "  user_item_matrix = df.pivot_table(index='user_id', columns='title', values='rating')\n",
        "  # Fill missing values with 0 (indicating no rating)\n",
        "  user_item_matrix.fillna(0, inplace=True)\n",
        "  # Calculate user-user similarity matrix using cosine similarity\n",
        "  user_similarity = cosine_similarity(user_item_matrix)\n",
        "  # Get the array of similarity scores of the target user with all other users\n",
        "  target_user_index = user_item_matrix.index.get_loc(user_id)\n",
        "  # Get the similarity scores of the target user with all other users\n",
        "  user_similarity_scores = user_similarity[target_user_index]\n",
        "  # Extract the top 5 most similar users (excluding the target user)\n",
        "  similar_users_indices = np.argsort(user_similarity_scores)[::-1][1:6]\n",
        "  # Find the top N most similar users (excluding the target user)\n",
        "  similar_users = user_item_matrix.index[similar_users_indices]\n",
        "  # Generate movie recommendations based on the most similar users\n",
        "  recommendations = df[df['user_id'].isin(similar_users)]['title']\n",
        "  # Remove duplicates from recommendations\n",
        "  recommendations = [rec for rec in recommendations if rec not in df[df['user_id'] == user_id]['title'].values]\n",
        "  recommendations = list(dict.fromkeys(recommendations))\n",
        "  top_movies = recommendations[:top_n]\n",
        "  return top_movies"
      ],
      "metadata": {
        "id": "BqZPgKRDWf-c"
      },
      "execution_count": 6,
      "outputs": []
    },
    {
      "cell_type": "markdown",
      "source": [
        "Now, test your recommendations engines! Select a few user ids and generate recommendations using both functions you've written. Are the recommendations similar? Do the recommendations make sense?"
      ],
      "metadata": {
        "id": "-Jj883VAZRNe"
      }
    },
    {
      "cell_type": "code",
      "source": [
        "# Test the recommendation engines\n",
        "test_user_ids = [1, 50, 100, 300, 700]\n",
        "\n",
        "for user in test_user_ids:\n",
        "    print('Recommendation List:', content_based_recommendation(user, df, movies, genre_cols))\n",
        "\n",
        "# Testing\n",
        "def create_list(print_message, user_id, movie_list):\n",
        "        print(f\"\\n {print_message} for User {user_id}:\")\n",
        "        genres = []\n",
        "        for title in movie_list:\n",
        "            movie_title = movies[movies['title'] == title]\n",
        "            movie_boolen_list = movie_title.loc[:, genre_cols].iloc[0] == 1\n",
        "            genres_present = movie_boolen_list.index[movie_boolen_list].tolist()\n",
        "            # print(title, genres_present)\n",
        "            genres.append(genres_present)\n",
        "\n",
        "        flat_genres = [item for sublist in genres for item in sublist]\n",
        "        genre_counts = Counter(flat_genres)\n",
        "        sorted_genres = genre_counts.most_common(5)\n",
        "        sorted_genre_list = [genre for genre, count in sorted_genres]\n",
        "\n",
        "        return sorted_genre_list;\n",
        "\n",
        "\n",
        "for user_id in test_user_ids:\n",
        "    liked_list = df[(df['user_id'] == user_id) & ((df['rating'] == 5) | (df['rating'] == 4))]\n",
        "    rec_list = content_based_recommendation(user_id, df, movies, genre_cols)\n",
        "    liked_list_created = create_list('Check Genres of Liked Movies', user_id, liked_list['title'])\n",
        "    rec_list_created = create_list('Check Genres of Recommended Movies', user_id, rec_list)\n",
        "    print(f\"Top Genres User {user_id} Liked by genre frequency:\\t\\t\", liked_list_created)\n",
        "    print(f\"Top Genres Recommended to User {user_id} by genre frequency:\\t\", rec_list_created)\n",
        "\n"
      ],
      "metadata": {
        "id": "kt9nuOTNJXz8",
        "colab": {
          "base_uri": "https://localhost:8080/"
        },
        "outputId": "06481fa0-1ed4-454d-8d86-34de08498f2d"
      },
      "execution_count": 7,
      "outputs": [
        {
          "output_type": "stream",
          "name": "stdout",
          "text": [
            "Recommendation List: ['Four Rooms (1995)', 'Manhattan (1979)', 'Copycat (1995)', 'Shanghai Triad (Yao a yao yao dao waipo qiao) (1995)', 'Dead Man Walking (1995)']\n",
            "Recommendation List: [\"Breakfast at Tiffany's (1961)\", 'Shall We Dance? (1937)', 'Shanghai Triad (Yao a yao yao dao waipo qiao) (1995)', 'Dead Man Walking (1995)', 'Grease 2 (1982)']\n",
            "Recommendation List: ['Top Gun (1986)', 'Silence of the Lambs, The (1991)', \"What's Eating Gilbert Grape (1993)\", 'Doom Generation, The (1995)', 'Man in the Iron Mask, The (1998)']\n",
            "Recommendation List: ['Beverly Hills Cop III (1994)', 'Touch (1997)', 'Last Action Hero (1993)', 'To Wong Foo, Thanks for Everything! Julie Newmar (1995)', 'Beverly Hills Ninja (1997)']\n",
            "Recommendation List: ['True Lies (1994)', 'Mars Attacks! (1996)', 'Empire Strikes Back, The (1980)', 'Excess Baggage (1997)', 'Starship Troopers (1997)']\n",
            "\n",
            " Check Genres of Liked Movies for User 1:\n",
            "\n",
            " Check Genres of Recommended Movies for User 1:\n",
            "Top Genres User 1 Liked by genre frequency:\t\t ['Drama', 'Comedy', 'Action', 'Sci-Fi', 'Thriller']\n",
            "Top Genres Recommended to User 1 by genre frequency:\t ['Drama', 'Thriller', 'Comedy', 'Romance', 'Crime']\n",
            "\n",
            " Check Genres of Liked Movies for User 50:\n",
            "\n",
            " Check Genres of Recommended Movies for User 50:\n",
            "Top Genres User 50 Liked by genre frequency:\t\t ['Drama', 'Romance', 'Comedy', 'Horror', 'Crime']\n",
            "Top Genres Recommended to User 50 by genre frequency:\t ['Drama', 'Romance', 'Comedy', 'Musical']\n",
            "\n",
            " Check Genres of Liked Movies for User 100:\n",
            "\n",
            " Check Genres of Recommended Movies for User 100:\n",
            "Top Genres User 100 Liked by genre frequency:\t\t ['Drama', 'Thriller', 'Action', 'Comedy', 'Sci-Fi']\n",
            "Top Genres Recommended to User 100 by genre frequency:\t ['Drama', 'Action', 'Romance', 'Comedy', 'Thriller']\n",
            "\n",
            " Check Genres of Liked Movies for User 300:\n",
            "\n",
            " Check Genres of Recommended Movies for User 300:\n",
            "Top Genres User 300 Liked by genre frequency:\t\t ['Comedy', 'Action', 'Thriller', 'Drama', 'Romance']\n",
            "Top Genres Recommended to User 300 by genre frequency:\t ['Comedy', 'Action', 'Romance']\n",
            "\n",
            " Check Genres of Liked Movies for User 700:\n",
            "\n",
            " Check Genres of Recommended Movies for User 700:\n",
            "Top Genres User 700 Liked by genre frequency:\t\t ['Action', 'Adventure', 'Romance', 'Sci-Fi', 'War']\n",
            "Top Genres Recommended to User 700 by genre frequency:\t ['Action', 'Adventure', 'Romance', 'Sci-Fi', 'War']\n"
          ]
        }
      ]
    },
    {
      "cell_type": "code",
      "source": [
        "test_user_ids = [1, 50, 100, 300, 700]\n",
        "\n",
        "for user in test_user_ids:\n",
        "    print(f\"\\nCheck Movie List for High Rated Movies for User {user}:\")\n",
        "    liked_list = df[(df['user_id'] == user) & ((df['rating'] == 5) | (df['rating'] == 4))]\n",
        "    print(liked_list['title'])\n",
        "    print(f\"\\nCollaborative Filtering Recommendations for User {user}:\")\n",
        "    print(collaborative_filtering_recommendation(user, df))"
      ],
      "metadata": {
        "id": "P7z7d-PF_qkI",
        "outputId": "affdfa1c-5eb3-4636-a47a-ce45ba992a6a",
        "colab": {
          "base_uri": "https://localhost:8080/"
        }
      },
      "execution_count": 8,
      "outputs": [
        {
          "output_type": "stream",
          "name": "stdout",
          "text": [
            "\n",
            "Check Movie List for High Rated Movies for User 1:\n",
            "129                                       Toy Story (1995)\n",
            "657                                      Four Rooms (1995)\n",
            "969      Shanghai Triad (Yao a yao yao dao waipo qiao) ...\n",
            "1285                                 Twelve Monkeys (1995)\n",
            "1660                               Dead Man Walking (1995)\n",
            "                               ...                        \n",
            "40452                     Hunt for Red October, The (1990)\n",
            "40715                                              unknown\n",
            "40799                                   Chasing Amy (1997)\n",
            "41061                               Full Monty, The (1997)\n",
            "41321                                       Gattaca (1997)\n",
            "Name: title, Length: 163, dtype: object\n",
            "\n",
            "Collaborative Filtering Recommendations for User 1:\n",
            "['Heat (1995)', 'Sabrina (1995)', 'Sense and Sensibility (1995)', 'Leaving Las Vegas (1995)', 'Bed of Roses (1996)']\n",
            "\n",
            "Check Movie List for High Rated Movies for User 50:\n",
            "1630                            Dead Man Walking (1995)\n",
            "17245                           Frighteners, The (1996)\n",
            "38843                           Pillow Book, The (1995)\n",
            "40807                                Chasing Amy (1997)\n",
            "44616                                     Scream (1996)\n",
            "49658                   Everyone Says I Love You (1996)\n",
            "50484                               Lost Highway (1997)\n",
            "63108                              Trainspotting (1996)\n",
            "66551                People vs. Larry Flynt, The (1996)\n",
            "69721    Things to Do in Denver when You're Dead (1995)\n",
            "70047             Young Poisoner's Handbook, The (1995)\n",
            "92454                         I Shot Andy Warhol (1996)\n",
            "92556                                   Basquiat (1996)\n",
            "95160                      Anne Frank Remembered (1995)\n",
            "Name: title, dtype: object\n",
            "\n",
            "Collaborative Filtering Recommendations for User 50:\n",
            "['Toy Story (1995)', 'Twelve Monkeys (1995)', 'Mighty Aphrodite (1995)', 'Postino, Il (1994)', \"Antonia's Line (1995)\"]\n",
            "\n",
            "Check Movie List for High Rated Movies for User 100:\n",
            "39674                     Contact (1997)\n",
            "41109             Full Monty, The (1997)\n",
            "41737           Good Will Hunting (1997)\n",
            "45968                   Liar Liar (1997)\n",
            "46727               Air Force One (1997)\n",
            "47309           L.A. Confidential (1997)\n",
            "48668                     Titanic (1997)\n",
            "49116                   Apt Pupil (1998)\n",
            "49125          As Good As It Gets (1997)\n",
            "51113           Conspiracy Theory (1997)\n",
            "52595                Apostle, The (1997)\n",
            "52887                 Wag the Dog (1997)\n",
            "53210                      Sphere (1998)\n",
            "79215        Seven Years in Tibet (1997)\n",
            "79333                   Dark City (1998)\n",
            "83329                     Amistad (1997)\n",
            "83610         Tomorrow Never Dies (1997)\n",
            "83631    Replacement Killers, The (1998)\n",
            "88369             Peacemaker, The (1997)\n",
            "89136                Postman, The (1997)\n",
            "89166                      Kundun (1997)\n",
            "97822        Big Bang Theory, The (1994)\n",
            "Name: title, dtype: object\n",
            "\n",
            "Collaborative Filtering Recommendations for User 100:\n",
            "['Kolya (1996)', 'Jungle2Jungle (1997)', \"Devil's Own, The (1997)\", 'George of the Jungle (1997)', 'Event Horizon (1997)']\n",
            "\n",
            "Check Movie List for High Rated Movies for User 300:\n",
            "37606                         Jungle2Jungle (1997)\n",
            "39159                          Men in Black (1997)\n",
            "44719                                Scream (1996)\n",
            "46790                         Air Force One (1997)\n",
            "50000                        Murder at 1600 (1997)\n",
            "57214                                  Jack (1996)\n",
            "61453                   Beverly Hills Ninja (1997)\n",
            "86761                           Bulletproof (1996)\n",
            "88001                            Love Jones (1997)\n",
            "88217                           Money Talks (1997)\n",
            "88552                           Money Talks (1997)\n",
            "90803                            Booty Call (1997)\n",
            "92762                         Private Parts (1997)\n",
            "95395    Thin Line Between Love and Hate, A (1996)\n",
            "Name: title, dtype: object\n",
            "\n",
            "Collaborative Filtering Recommendations for User 300:\n",
            "['Dead Man Walking (1995)', \"Mr. Holland's Opus (1995)\", \"Antonia's Line (1995)\", 'Truth About Cats & Dogs, The (1996)', 'Return of the Jedi (1983)']\n",
            "\n",
            "Check Movie List for High Rated Movies for User 700:\n",
            "6311                    Hoop Dreams (1994)\n",
            "6716                      Star Wars (1977)\n",
            "13396    Terminator 2: Judgment Day (1991)\n",
            "20339                      Die Hard (1988)\n",
            "24474           Princess Bride, The (1987)\n",
            "24861       Raiders of the Lost Ark (1981)\n",
            "26369            Return of the Jedi (1983)\n",
            "49544              Schindler's List (1993)\n",
            "58692    E.T. the Extra-Terrestrial (1982)\n",
            "69231                         Shine (1996)\n",
            "76154                         Glory (1989)\n",
            "Name: title, dtype: object\n",
            "\n",
            "Collaborative Filtering Recommendations for User 700:\n",
            "['Toy Story (1995)', 'GoldenEye (1995)', 'Twelve Monkeys (1995)', 'Babe (1995)', 'Seven (Se7en) (1995)']\n"
          ]
        }
      ]
    },
    {
      "cell_type": "code",
      "source": [
        "# Compare recommendations by similar genres\n",
        "def get_recommended_genres(recommended_titles, movies_df, genre_cols):\n",
        "    rec_genres = movies_df[movies_df['title'].isin(recommended_titles)][genre_cols]\n",
        "    return rec_genres\n",
        "\n",
        "def genre_overlap(user_genres, rec_genres):\n",
        "    overlap = 0\n",
        "    total = 0\n",
        "    for i in range(user_genres.shape[0]):\n",
        "        for j in range(rec_genres.shape[0]):\n",
        "            overlap += ((user_genres.iloc[i] & rec_genres.iloc[j]).sum())\n",
        "            total += ((user_genres.iloc[i] | rec_genres.iloc[j]).sum())\n",
        "    return overlap / total if total > 0 else 0\n",
        "\n",
        "def compare_genre_similarity(user_id, df, movies=movies, genre_cols=genre_cols, top_n=5):\n",
        "    # Get recs\n",
        "    content_recs = content_based_recommendation(user_id, df, movies, genre_cols, top_n)\n",
        "    collab_recs = collaborative_filtering_recommendation(user_id, df, movies, top_n)\n",
        "\n",
        "    # Get genres\n",
        "    content_genres = get_recommended_genres(content_recs, movies, genre_cols)\n",
        "    collab_genres = get_recommended_genres(collab_recs, movies, genre_cols)\n",
        "\n",
        "    # Compare genres\n",
        "    sim_score = genre_overlap(content_genres, collab_genres)\n",
        "\n",
        "    print(f\"User {user_id} - Genre Similarity between methods: {sim_score * 100:.2f}%\")\n",
        "    print(\"Content-based recs:\", content_recs)\n",
        "    print(\"Collaborative recs:\", collab_recs)\n",
        "\n",
        "user_test_list=[1, 50, 100, 300, 700]\n",
        "for user in user_test_list:\n",
        "    compare_genre_similarity(user, df)\n",
        "    print(\"\\n\")"
      ],
      "metadata": {
        "id": "LYUVRzkJ_usG",
        "outputId": "e90bba4b-4632-41fc-fc23-a0ef6ed40807",
        "colab": {
          "base_uri": "https://localhost:8080/"
        }
      },
      "execution_count": 11,
      "outputs": [
        {
          "output_type": "stream",
          "name": "stdout",
          "text": [
            "User 1 - Genre Similarity between methods: 25.00%\n",
            "Content-based recs: ['Four Rooms (1995)', 'Manhattan (1979)', 'Copycat (1995)', 'Shanghai Triad (Yao a yao yao dao waipo qiao) (1995)', 'Dead Man Walking (1995)']\n",
            "Collaborative recs: ['Heat (1995)', 'Sabrina (1995)', 'Sense and Sensibility (1995)', 'Leaving Las Vegas (1995)', 'Bed of Roses (1996)']\n",
            "\n",
            "\n",
            "User 50 - Genre Similarity between methods: 20.25%\n",
            "Content-based recs: [\"Breakfast at Tiffany's (1961)\", 'Shall We Dance? (1937)', 'Shanghai Triad (Yao a yao yao dao waipo qiao) (1995)', 'Dead Man Walking (1995)', 'Grease 2 (1982)']\n",
            "Collaborative recs: ['Toy Story (1995)', 'Twelve Monkeys (1995)', 'Mighty Aphrodite (1995)', 'Postino, Il (1994)', \"Antonia's Line (1995)\"]\n",
            "\n",
            "\n",
            "User 100 - Genre Similarity between methods: 15.38%\n",
            "Content-based recs: ['Top Gun (1986)', 'Silence of the Lambs, The (1991)', \"What's Eating Gilbert Grape (1993)\", 'Doom Generation, The (1995)', 'Man in the Iron Mask, The (1998)']\n",
            "Collaborative recs: ['Kolya (1996)', 'Jungle2Jungle (1997)', \"Devil's Own, The (1997)\", 'George of the Jungle (1997)', 'Event Horizon (1997)']\n",
            "\n",
            "\n",
            "User 300 - Genre Similarity between methods: 11.11%\n",
            "Content-based recs: ['Beverly Hills Cop III (1994)', 'Touch (1997)', 'Last Action Hero (1993)', 'To Wong Foo, Thanks for Everything! Julie Newmar (1995)', 'Beverly Hills Ninja (1997)']\n",
            "Collaborative recs: ['Dead Man Walking (1995)', \"Mr. Holland's Opus (1995)\", \"Antonia's Line (1995)\", 'Truth About Cats & Dogs, The (1996)', 'Return of the Jedi (1983)']\n",
            "\n",
            "\n",
            "User 700 - Genre Similarity between methods: 11.49%\n",
            "Content-based recs: ['True Lies (1994)', 'Mars Attacks! (1996)', 'Empire Strikes Back, The (1980)', 'Excess Baggage (1997)', 'Starship Troopers (1997)']\n",
            "Collaborative recs: ['Toy Story (1995)', 'GoldenEye (1995)', 'Twelve Monkeys (1995)', 'Babe (1995)', 'Seven (Se7en) (1995)']\n",
            "\n",
            "\n"
          ]
        }
      ]
    },
    {
      "cell_type": "code",
      "source": [],
      "metadata": {
        "id": "IKyWD22k_zHz"
      },
      "execution_count": null,
      "outputs": []
    }
  ]
}